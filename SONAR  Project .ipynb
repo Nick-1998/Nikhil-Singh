{
 "cells": [
  {
   "cell_type": "code",
   "execution_count": 14,
   "metadata": {},
   "outputs": [
    {
     "name": "stdout",
     "output_type": "stream",
     "text": [
      "Requirement already satisfied: dtale in e:\\anaconda\\lib\\site-packages (1.15.2)\n",
      "Requirement already satisfied: requests in e:\\anaconda\\lib\\site-packages (from dtale) (2.22.0)\n",
      "Requirement already satisfied: lz4; python_version > \"3.0\" in e:\\anaconda\\lib\\site-packages (from dtale) (3.1.0)\n",
      "Requirement already satisfied: dash-bootstrap-components; python_version > \"3.0\" in e:\\anaconda\\lib\\site-packages (from dtale) (0.10.6)\n",
      "Requirement already satisfied: flask-ngrok; python_version > \"3.0\" in e:\\anaconda\\lib\\site-packages (from dtale) (0.0.25)\n",
      "Requirement already satisfied: future>=0.14.0 in e:\\anaconda\\lib\\site-packages (from dtale) (0.18.2)\n",
      "Requirement already satisfied: squarify in e:\\anaconda\\lib\\site-packages (from dtale) (0.4.3)\n",
      "Requirement already satisfied: scikit-learn>='0.21.0 in e:\\anaconda\\lib\\site-packages (from dtale) (0.23.2)\n",
      "Requirement already satisfied: pandas in e:\\anaconda\\lib\\site-packages (from dtale) (1.1.0)\n",
      "Requirement already satisfied: scipy in e:\\anaconda\\lib\\site-packages (from dtale) (1.4.1)\n",
      "Requirement already satisfied: six in e:\\anaconda\\lib\\site-packages (from dtale) (1.14.0)\n",
      "Requirement already satisfied: dash-daq in e:\\anaconda\\lib\\site-packages (from dtale) (0.5.0)\n",
      "Requirement already satisfied: dash>=1.5.0 in e:\\anaconda\\lib\\site-packages (from dtale) (1.16.2)\n",
      "Requirement already satisfied: itsdangerous in e:\\anaconda\\lib\\site-packages (from dtale) (1.1.0)\n",
      "Requirement already satisfied: xarray in e:\\anaconda\\lib\\site-packages (from dtale) (0.16.1)\n",
      "Requirement already satisfied: Flask-Compress in e:\\anaconda\\lib\\site-packages (from dtale) (1.5.0)\n",
      "Requirement already satisfied: dash-colorscales in e:\\anaconda\\lib\\site-packages (from dtale) (0.0.4)\n",
      "Requirement already satisfied: statsmodels in e:\\anaconda\\lib\\site-packages (from dtale) (0.11.0)\n",
      "Requirement already satisfied: Flask>=1.0 in e:\\anaconda\\lib\\site-packages (from dtale) (1.1.1)\n",
      "Requirement already satisfied: idna<2.9,>=2.5 in e:\\anaconda\\lib\\site-packages (from requests->dtale) (2.8)\n",
      "Requirement already satisfied: urllib3!=1.25.0,!=1.25.1,<1.26,>=1.21.1 in e:\\anaconda\\lib\\site-packages (from requests->dtale) (1.25.8)\n",
      "Requirement already satisfied: certifi>=2017.4.17 in e:\\anaconda\\lib\\site-packages (from requests->dtale) (2019.11.28)\n",
      "Requirement already satisfied: chardet<3.1.0,>=3.0.2 in e:\\anaconda\\lib\\site-packages (from requests->dtale) (3.0.4)\n",
      "Requirement already satisfied: numpy>=1.13.3 in e:\\anaconda\\lib\\site-packages (from scikit-learn>='0.21.0->dtale) (1.19.2)\n",
      "Requirement already satisfied: joblib>=0.11 in e:\\anaconda\\lib\\site-packages (from scikit-learn>='0.21.0->dtale) (0.14.1)\n",
      "Requirement already satisfied: threadpoolctl>=2.0.0 in e:\\anaconda\\lib\\site-packages (from scikit-learn>='0.21.0->dtale) (2.1.0)\n",
      "Requirement already satisfied: python-dateutil>=2.7.3 in e:\\anaconda\\lib\\site-packages (from pandas->dtale) (2.8.1)\n",
      "Requirement already satisfied: pytz>=2017.2 in e:\\anaconda\\lib\\site-packages (from pandas->dtale) (2019.3)\n",
      "Requirement already satisfied: dash-core-components==1.12.1 in e:\\anaconda\\lib\\site-packages (from dash>=1.5.0->dtale) (1.12.1)\n",
      "Requirement already satisfied: dash-table==4.10.1 in e:\\anaconda\\lib\\site-packages (from dash>=1.5.0->dtale) (4.10.1)\n",
      "Requirement already satisfied: dash-html-components==1.1.1 in e:\\anaconda\\lib\\site-packages (from dash>=1.5.0->dtale) (1.1.1)\n",
      "Requirement already satisfied: dash-renderer==1.8.2 in e:\\anaconda\\lib\\site-packages (from dash>=1.5.0->dtale) (1.8.2)\n",
      "Requirement already satisfied: plotly in e:\\anaconda\\lib\\site-packages (from dash>=1.5.0->dtale) (4.10.0)\n",
      "Requirement already satisfied: setuptools>=38.4 in e:\\anaconda\\lib\\site-packages (from xarray->dtale) (50.3.0)\n",
      "Requirement already satisfied: brotli in e:\\anaconda\\lib\\site-packages (from Flask-Compress->dtale) (1.0.9)\n",
      "Requirement already satisfied: patsy>=0.5 in e:\\anaconda\\lib\\site-packages (from statsmodels->dtale) (0.5.1)\n",
      "Requirement already satisfied: Jinja2>=2.10.1 in e:\\anaconda\\lib\\site-packages (from Flask>=1.0->dtale) (2.11.1)\n",
      "Requirement already satisfied: click>=5.1 in e:\\anaconda\\lib\\site-packages (from Flask>=1.0->dtale) (7.0)\n",
      "Requirement already satisfied: Werkzeug>=0.15 in e:\\anaconda\\lib\\site-packages (from Flask>=1.0->dtale) (1.0.0)\n",
      "Requirement already satisfied: retrying>=1.3.3 in e:\\anaconda\\lib\\site-packages (from plotly->dash>=1.5.0->dtale) (1.3.3)\n",
      "Requirement already satisfied: MarkupSafe>=0.23 in e:\\anaconda\\lib\\site-packages (from Jinja2>=2.10.1->Flask>=1.0->dtale) (1.1.1)\n"
     ]
    }
   ],
   "source": [
    "# Importing libarieries for Pandas visualization \n",
    "!pip install dtale"
   ]
  },
  {
   "cell_type": "code",
   "execution_count": 15,
   "metadata": {},
   "outputs": [],
   "source": [
    "# importing libaries\n",
    "import pandas as pd\n",
    "import numpy as np"
   ]
  },
  {
   "cell_type": "code",
   "execution_count": 16,
   "metadata": {},
   "outputs": [
    {
     "data": {
      "text/html": [
       "<div>\n",
       "<style scoped>\n",
       "    .dataframe tbody tr th:only-of-type {\n",
       "        vertical-align: middle;\n",
       "    }\n",
       "\n",
       "    .dataframe tbody tr th {\n",
       "        vertical-align: top;\n",
       "    }\n",
       "\n",
       "    .dataframe thead th {\n",
       "        text-align: right;\n",
       "    }\n",
       "</style>\n",
       "<table border=\"1\" class=\"dataframe\">\n",
       "  <thead>\n",
       "    <tr style=\"text-align: right;\">\n",
       "      <th></th>\n",
       "      <th>Unknown</th>\n",
       "      <th>0</th>\n",
       "      <th>1</th>\n",
       "      <th>2</th>\n",
       "      <th>3</th>\n",
       "      <th>4</th>\n",
       "      <th>5</th>\n",
       "      <th>6</th>\n",
       "      <th>7</th>\n",
       "      <th>8</th>\n",
       "      <th>...</th>\n",
       "      <th>51</th>\n",
       "      <th>52</th>\n",
       "      <th>53</th>\n",
       "      <th>54</th>\n",
       "      <th>55</th>\n",
       "      <th>56</th>\n",
       "      <th>57</th>\n",
       "      <th>58</th>\n",
       "      <th>59</th>\n",
       "      <th>Class</th>\n",
       "    </tr>\n",
       "  </thead>\n",
       "  <tbody>\n",
       "    <tr>\n",
       "      <th>0</th>\n",
       "      <td>0</td>\n",
       "      <td>0.0200</td>\n",
       "      <td>0.0371</td>\n",
       "      <td>0.0428</td>\n",
       "      <td>0.0207</td>\n",
       "      <td>0.0954</td>\n",
       "      <td>0.0986</td>\n",
       "      <td>0.1539</td>\n",
       "      <td>0.1601</td>\n",
       "      <td>0.3109</td>\n",
       "      <td>...</td>\n",
       "      <td>0.0027</td>\n",
       "      <td>0.0065</td>\n",
       "      <td>0.0159</td>\n",
       "      <td>0.0072</td>\n",
       "      <td>0.0167</td>\n",
       "      <td>0.0180</td>\n",
       "      <td>0.0084</td>\n",
       "      <td>0.0090</td>\n",
       "      <td>0.0032</td>\n",
       "      <td>R</td>\n",
       "    </tr>\n",
       "    <tr>\n",
       "      <th>1</th>\n",
       "      <td>1</td>\n",
       "      <td>0.0453</td>\n",
       "      <td>0.0523</td>\n",
       "      <td>0.0843</td>\n",
       "      <td>0.0689</td>\n",
       "      <td>0.1183</td>\n",
       "      <td>0.2583</td>\n",
       "      <td>0.2156</td>\n",
       "      <td>0.3481</td>\n",
       "      <td>0.3337</td>\n",
       "      <td>...</td>\n",
       "      <td>0.0084</td>\n",
       "      <td>0.0089</td>\n",
       "      <td>0.0048</td>\n",
       "      <td>0.0094</td>\n",
       "      <td>0.0191</td>\n",
       "      <td>0.0140</td>\n",
       "      <td>0.0049</td>\n",
       "      <td>0.0052</td>\n",
       "      <td>0.0044</td>\n",
       "      <td>R</td>\n",
       "    </tr>\n",
       "    <tr>\n",
       "      <th>2</th>\n",
       "      <td>2</td>\n",
       "      <td>0.0262</td>\n",
       "      <td>0.0582</td>\n",
       "      <td>0.1099</td>\n",
       "      <td>0.1083</td>\n",
       "      <td>0.0974</td>\n",
       "      <td>0.2280</td>\n",
       "      <td>0.2431</td>\n",
       "      <td>0.3771</td>\n",
       "      <td>0.5598</td>\n",
       "      <td>...</td>\n",
       "      <td>0.0232</td>\n",
       "      <td>0.0166</td>\n",
       "      <td>0.0095</td>\n",
       "      <td>0.0180</td>\n",
       "      <td>0.0244</td>\n",
       "      <td>0.0316</td>\n",
       "      <td>0.0164</td>\n",
       "      <td>0.0095</td>\n",
       "      <td>0.0078</td>\n",
       "      <td>R</td>\n",
       "    </tr>\n",
       "    <tr>\n",
       "      <th>3</th>\n",
       "      <td>3</td>\n",
       "      <td>0.0100</td>\n",
       "      <td>0.0171</td>\n",
       "      <td>0.0623</td>\n",
       "      <td>0.0205</td>\n",
       "      <td>0.0205</td>\n",
       "      <td>0.0368</td>\n",
       "      <td>0.1098</td>\n",
       "      <td>0.1276</td>\n",
       "      <td>0.0598</td>\n",
       "      <td>...</td>\n",
       "      <td>0.0121</td>\n",
       "      <td>0.0036</td>\n",
       "      <td>0.0150</td>\n",
       "      <td>0.0085</td>\n",
       "      <td>0.0073</td>\n",
       "      <td>0.0050</td>\n",
       "      <td>0.0044</td>\n",
       "      <td>0.0040</td>\n",
       "      <td>0.0117</td>\n",
       "      <td>R</td>\n",
       "    </tr>\n",
       "    <tr>\n",
       "      <th>4</th>\n",
       "      <td>4</td>\n",
       "      <td>0.0762</td>\n",
       "      <td>0.0666</td>\n",
       "      <td>0.0481</td>\n",
       "      <td>0.0394</td>\n",
       "      <td>0.0590</td>\n",
       "      <td>0.0649</td>\n",
       "      <td>0.1209</td>\n",
       "      <td>0.2467</td>\n",
       "      <td>0.3564</td>\n",
       "      <td>...</td>\n",
       "      <td>0.0031</td>\n",
       "      <td>0.0054</td>\n",
       "      <td>0.0105</td>\n",
       "      <td>0.0110</td>\n",
       "      <td>0.0015</td>\n",
       "      <td>0.0072</td>\n",
       "      <td>0.0048</td>\n",
       "      <td>0.0107</td>\n",
       "      <td>0.0094</td>\n",
       "      <td>R</td>\n",
       "    </tr>\n",
       "  </tbody>\n",
       "</table>\n",
       "<p>5 rows × 62 columns</p>\n",
       "</div>"
      ],
      "text/plain": [
       "   Unknown        0       1       2       3       4       5       6       7  \\\n",
       "0         0  0.0200  0.0371  0.0428  0.0207  0.0954  0.0986  0.1539  0.1601   \n",
       "1         1  0.0453  0.0523  0.0843  0.0689  0.1183  0.2583  0.2156  0.3481   \n",
       "2         2  0.0262  0.0582  0.1099  0.1083  0.0974  0.2280  0.2431  0.3771   \n",
       "3         3  0.0100  0.0171  0.0623  0.0205  0.0205  0.0368  0.1098  0.1276   \n",
       "4         4  0.0762  0.0666  0.0481  0.0394  0.0590  0.0649  0.1209  0.2467   \n",
       "\n",
       "        8  ...      51      52      53      54      55      56      57  \\\n",
       "0  0.3109  ...  0.0027  0.0065  0.0159  0.0072  0.0167  0.0180  0.0084   \n",
       "1  0.3337  ...  0.0084  0.0089  0.0048  0.0094  0.0191  0.0140  0.0049   \n",
       "2  0.5598  ...  0.0232  0.0166  0.0095  0.0180  0.0244  0.0316  0.0164   \n",
       "3  0.0598  ...  0.0121  0.0036  0.0150  0.0085  0.0073  0.0050  0.0044   \n",
       "4  0.3564  ...  0.0031  0.0054  0.0105  0.0110  0.0015  0.0072  0.0048   \n",
       "\n",
       "       58      59  Class  \n",
       "0  0.0090  0.0032      R  \n",
       "1  0.0052  0.0044      R  \n",
       "2  0.0095  0.0078      R  \n",
       "3  0.0040  0.0117      R  \n",
       "4  0.0107  0.0094      R  \n",
       "\n",
       "[5 rows x 62 columns]"
      ]
     },
     "execution_count": 16,
     "metadata": {},
     "output_type": "execute_result"
    }
   ],
   "source": [
    "# Reading data\n",
    "df = pd.read_csv('sonar.all-data.csv')\n",
    "df.head()"
   ]
  },
  {
   "cell_type": "code",
   "execution_count": 17,
   "metadata": {},
   "outputs": [
    {
     "data": {
      "text/plain": [
       "(208, 62)"
      ]
     },
     "execution_count": 17,
     "metadata": {},
     "output_type": "execute_result"
    }
   ],
   "source": [
    "df.shape"
   ]
  },
  {
   "cell_type": "markdown",
   "metadata": {},
   "source": [
    "# Compelete  EDA"
   ]
  },
  {
   "cell_type": "code",
   "execution_count": 18,
   "metadata": {
    "scrolled": true
   },
   "outputs": [
    {
     "data": {
      "text/html": [
       "\n",
       "        <iframe\n",
       "            width=\"100%\"\n",
       "            height=\"475\"\n",
       "            src=\"http://NIKHIL:40000/dtale/iframe/2\"\n",
       "            frameborder=\"0\"\n",
       "            allowfullscreen\n",
       "        ></iframe>\n",
       "        "
      ],
      "text/plain": [
       "<IPython.lib.display.IFrame at 0x15ba6367c48>"
      ]
     },
     "metadata": {},
     "output_type": "display_data"
    },
    {
     "data": {
      "text/plain": []
     },
     "execution_count": 18,
     "metadata": {},
     "output_type": "execute_result"
    }
   ],
   "source": [
    "import dtale\n",
    "dtale.show(df)"
   ]
  },
  {
   "cell_type": "code",
   "execution_count": 19,
   "metadata": {},
   "outputs": [],
   "source": [
    "# Convert Class column to Category as data type so further it will be useful to specify\n",
    "x = df.drop('Class',1)\n",
    "df['Class'] = df['Class'].astype('category')\n",
    "y = df['Class']"
   ]
  },
  {
   "cell_type": "code",
   "execution_count": 20,
   "metadata": {},
   "outputs": [],
   "source": [
    "from sklearn.model_selection import train_test_split\n",
    "from sklearn.linear_model import LogisticRegression\n",
    "from sklearn.metrics import confusion_matrix\n",
    "from sklearn import metrics"
   ]
  },
  {
   "cell_type": "code",
   "execution_count": 21,
   "metadata": {},
   "outputs": [],
   "source": [
    "# Split data into train and test\n",
    "x_train,x_test,y_train,y_test = train_test_split(x,y,test_size=0.20,random_state = 4)"
   ]
  },
  {
   "cell_type": "code",
   "execution_count": 22,
   "metadata": {},
   "outputs": [],
   "source": [
    "# Fit the Logsitic Regression \n",
    "logReg = LogisticRegression(C=0.01, solver='liblinear').fit(x_train,y_train)"
   ]
  },
  {
   "cell_type": "code",
   "execution_count": 23,
   "metadata": {},
   "outputs": [
    {
     "name": "stdout",
     "output_type": "stream",
     "text": [
      "[[25  0]\n",
      " [ 6 11]]\n"
     ]
    }
   ],
   "source": [
    "# Evaluate the model on test data \n",
    "y_pred = logReg.predict(x_test)\n",
    "print(confusion_matrix(y_test,y_pred))"
   ]
  },
  {
   "cell_type": "code",
   "execution_count": 24,
   "metadata": {},
   "outputs": [
    {
     "name": "stdout",
     "output_type": "stream",
     "text": [
      "Accuracy: 0.8571428571428571\n"
     ]
    }
   ],
   "source": [
    "print(\"Accuracy:\",metrics.accuracy_score(y_test, y_pred))"
   ]
  },
  {
   "cell_type": "code",
   "execution_count": 29,
   "metadata": {},
   "outputs": [
    {
     "data": {
      "text/plain": [
       "['sonar.pkl']"
      ]
     },
     "execution_count": 29,
     "metadata": {},
     "output_type": "execute_result"
    }
   ],
   "source": [
    "# Let's save the model\n",
    "import joblib\n",
    "# Save the model file in pickle\n",
    "joblib.dump(logReg,'sonar.pkl')"
   ]
  },
  {
   "cell_type": "code",
   "execution_count": null,
   "metadata": {},
   "outputs": [],
   "source": []
  }
 ],
 "metadata": {
  "kernelspec": {
   "display_name": "Python 3",
   "language": "python",
   "name": "python3"
  },
  "language_info": {
   "codemirror_mode": {
    "name": "ipython",
    "version": 3
   },
   "file_extension": ".py",
   "mimetype": "text/x-python",
   "name": "python",
   "nbconvert_exporter": "python",
   "pygments_lexer": "ipython3",
   "version": "3.7.6"
  }
 },
 "nbformat": 4,
 "nbformat_minor": 4
}
